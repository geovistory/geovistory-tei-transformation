{
 "cells": [
  {
   "cell_type": "code",
   "execution_count": null,
   "id": "legitimate-district",
   "metadata": {},
   "outputs": [],
   "source": []
  },
  {
   "cell_type": "code",
   "execution_count": 431,
   "id": "bibliographic-cable",
   "metadata": {},
   "outputs": [],
   "source": [
    "import json\n",
    "import pandas as pd\n",
    "from lxml import etree as etree\n",
    "import re"
   ]
  },
  {
   "cell_type": "code",
   "execution_count": null,
   "id": "proprietary-banner",
   "metadata": {},
   "outputs": [],
   "source": []
  },
  {
   "cell_type": "markdown",
   "id": "proper-helen",
   "metadata": {},
   "source": [
    "#  SQL queries\n",
    "\n",
    "```sql\n",
    "-- Expressions in Hefte\n",
    "\n",
    "SELECT expr.pk_entity, expr.entity_label\n",
    "FROM war.entity_preview expr\n",
    "WHERE expr.fk_class = 218\n",
    "AND   expr.fk_project = 924033\n",
    "AND  expr.entity_label ~'Heft'\n",
    "ORDER BY expr.pk_entity;\n",
    "\n",
    "\n",
    "-- tous les textes avec carnets et sections, sans les textes - seulement metadonnées\n",
    "SELECT DISTINCT expr.pk_entity id_manuscript,\n",
    "       expr.entity_label title_manuscript,\n",
    "       st.fk_subject_info AS id_section,\n",
    "       sect.entity_label title_section,\n",
    "       sect.fk_type,\n",
    "      max(sect.full_text),\n",
    "       st1.fk_subject_data id_digital,\n",
    "       dita.entity_version text_version,\n",
    "       dita.pk_text id_text\n",
    "FROM war.entity_preview expr\n",
    "  JOIN war.statement st ON st.fk_object_info = expr.pk_entity\n",
    "  JOIN war.entity_preview sect ON st.fk_subject_info = sect.pk_entity\n",
    "  JOIN information.statement st1 ON st1.fk_object_info = sect.pk_entity\n",
    "  JOIN data.digital dita ON dita.pk_entity = st1.fk_subject_data\n",
    "  JOIN projects.info_proj_rel t3 ON t3.fk_entity = st1.pk_entity\n",
    "WHERE expr.fk_class = 218\n",
    "AND   expr.fk_project = 924033\n",
    "AND   expr.entity_label ~ 'Heft'\n",
    "AND   st.fk_project = 924033\n",
    "AND   st.fk_property = 1317\n",
    "AND   t3.fk_project = 924033\n",
    "AND   t3.is_in_project IS TRUE\n",
    "AND   st1.fk_property = 1216\n",
    "GROUP BY  expr.pk_entity,\n",
    "       expr.entity_label,\n",
    "       st.fk_subject_info,\n",
    "       sect.entity_label,\n",
    "       sect.fk_type,\n",
    "       st1.fk_subject_data,\n",
    "       dita.entity_version,\n",
    "       dita.pk_text,\n",
    "       dita.quill_doc\n",
    "       ORDER BY expr.pk_entity,\n",
    "         st.fk_subject_info\n",
    "--LIMIT 10\n",
    ";\n",
    "\n",
    "-- tous les textes, avec carnets et sections, avec les textes \n",
    "SELECT DISTINCT expr.pk_entity id_manuscript,\n",
    "       expr.entity_label title_manuscript,\n",
    "       st.fk_subject_info AS id_section,\n",
    "       sect.entity_label title_section,\n",
    "       sect.fk_type,\n",
    "      max(sect.full_text),\n",
    "       st1.fk_subject_data id_digital,\n",
    "       dita.entity_version text_version,\n",
    "       dita.pk_text id_text,\n",
    "       dita.quill_doc\n",
    "FROM war.entity_preview expr\n",
    "  JOIN war.statement st ON st.fk_object_info = expr.pk_entity\n",
    "  JOIN war.entity_preview sect ON st.fk_subject_info = sect.pk_entity\n",
    "  JOIN information.statement st1 ON st1.fk_object_info = sect.pk_entity\n",
    "  JOIN data.digital dita ON dita.pk_entity = st1.fk_subject_data\n",
    "  JOIN projects.info_proj_rel t3 ON t3.fk_entity = st1.pk_entity\n",
    "WHERE expr.fk_class = 218\n",
    "AND   expr.fk_project = 924033\n",
    "AND   expr.entity_label ~ 'Heft'\n",
    "AND   st.fk_project = 924033\n",
    "AND   st.fk_property = 1317\n",
    "AND   t3.fk_project = 924033\n",
    "AND   t3.is_in_project IS TRUE\n",
    "AND   st1.fk_property = 1216\n",
    "GROUP BY  expr.pk_entity,\n",
    "       expr.entity_label,\n",
    "       st.fk_subject_info,\n",
    "       sect.entity_label,\n",
    "       sect.fk_type,\n",
    "       st1.fk_subject_data,\n",
    "       dita.entity_version,\n",
    "       dita.pk_text,\n",
    "       dita.quill_doc\n",
    "       ORDER BY expr.pk_entity,\n",
    "         st.fk_subject_info \n",
    "--LIMIT 10\n",
    ";      \n",
    "```"
   ]
  },
  {
   "cell_type": "markdown",
   "id": "statewide-freedom",
   "metadata": {},
   "source": [
    "# Texts"
   ]
  },
  {
   "cell_type": "code",
   "execution_count": 698,
   "id": "heard-romania",
   "metadata": {},
   "outputs": [],
   "source": [
    "texts_f = 'texte/all_texts_20220115.csv'"
   ]
  },
  {
   "cell_type": "code",
   "execution_count": 699,
   "id": "authentic-andrew",
   "metadata": {},
   "outputs": [
    {
     "name": "stdout",
     "output_type": "stream",
     "text": [
      "781\n"
     ]
    },
    {
     "data": {
      "text/html": [
       "<div>\n",
       "<style scoped>\n",
       "    .dataframe tbody tr th:only-of-type {\n",
       "        vertical-align: middle;\n",
       "    }\n",
       "\n",
       "    .dataframe tbody tr th {\n",
       "        vertical-align: top;\n",
       "    }\n",
       "\n",
       "    .dataframe thead th {\n",
       "        text-align: right;\n",
       "    }\n",
       "</style>\n",
       "<table border=\"1\" class=\"dataframe\">\n",
       "  <thead>\n",
       "    <tr style=\"text-align: right;\">\n",
       "      <th></th>\n",
       "      <th>id_manuscript</th>\n",
       "      <th>title_manuscript</th>\n",
       "      <th>id_section</th>\n",
       "      <th>title_section</th>\n",
       "      <th>fk_type</th>\n",
       "      <th>max</th>\n",
       "      <th>id_digital</th>\n",
       "      <th>text_version</th>\n",
       "      <th>id_text</th>\n",
       "      <th>quill_doc</th>\n",
       "    </tr>\n",
       "  </thead>\n",
       "  <tbody>\n",
       "    <tr>\n",
       "      <th>0</th>\n",
       "      <td>835550</td>\n",
       "      <td>Heft 1 (1795)</td>\n",
       "      <td>835573</td>\n",
       "      <td>23.11.1795</td>\n",
       "      <td>NaN</td>\n",
       "      <td>Section – Name: '23.11.1795', is part of: '(no...</td>\n",
       "      <td>24651936</td>\n",
       "      <td>10</td>\n",
       "      <td>23381914</td>\n",
       "      <td>{\"ops\": [{\"insert\": \"[\", \"attributes\": {\"chari...</td>\n",
       "    </tr>\n",
       "    <tr>\n",
       "      <th>1</th>\n",
       "      <td>835550</td>\n",
       "      <td>Heft 1 (1795)</td>\n",
       "      <td>835641</td>\n",
       "      <td>27.11.1795</td>\n",
       "      <td>NaN</td>\n",
       "      <td>Section – Name: '27.11.1795', is part of: '(no...</td>\n",
       "      <td>24651950</td>\n",
       "      <td>5</td>\n",
       "      <td>23381935</td>\n",
       "      <td>{\"ops\": [{\"insert\": \"[\", \"attributes\": {\"chari...</td>\n",
       "    </tr>\n",
       "    <tr>\n",
       "      <th>2</th>\n",
       "      <td>835550</td>\n",
       "      <td>Heft 1 (1795)</td>\n",
       "      <td>835651</td>\n",
       "      <td>28.11.1795</td>\n",
       "      <td>NaN</td>\n",
       "      <td>Section – Name: '28.11.1795', is part of: '(no...</td>\n",
       "      <td>24651951</td>\n",
       "      <td>8</td>\n",
       "      <td>23381937</td>\n",
       "      <td>{\"ops\": [{\"insert\": \"[\", \"attributes\": {\"chari...</td>\n",
       "    </tr>\n",
       "    <tr>\n",
       "      <th>3</th>\n",
       "      <td>835550</td>\n",
       "      <td>Heft 1 (1795)</td>\n",
       "      <td>835662</td>\n",
       "      <td>10.12.1795</td>\n",
       "      <td>NaN</td>\n",
       "      <td>Section – Name: '10.12.1795', is part of: '(no...</td>\n",
       "      <td>24651952</td>\n",
       "      <td>6</td>\n",
       "      <td>23381939</td>\n",
       "      <td>{\"ops\": [{\"insert\": \"[\", \"attributes\": {\"chari...</td>\n",
       "    </tr>\n",
       "    <tr>\n",
       "      <th>4</th>\n",
       "      <td>835618</td>\n",
       "      <td>Heft 2 (1796)</td>\n",
       "      <td>835671</td>\n",
       "      <td>XX.XX.1796</td>\n",
       "      <td>NaN</td>\n",
       "      <td>Section – Name: 'XX.XX.1796', is part of: '(no...</td>\n",
       "      <td>24651953</td>\n",
       "      <td>6</td>\n",
       "      <td>23381941</td>\n",
       "      <td>{\"ops\": [{\"insert\": \"[\", \"attributes\": {\"chari...</td>\n",
       "    </tr>\n",
       "  </tbody>\n",
       "</table>\n",
       "</div>"
      ],
      "text/plain": [
       "   id_manuscript title_manuscript  id_section title_section  fk_type  \\\n",
       "0         835550    Heft 1 (1795)      835573    23.11.1795      NaN   \n",
       "1         835550    Heft 1 (1795)      835641    27.11.1795      NaN   \n",
       "2         835550    Heft 1 (1795)      835651    28.11.1795      NaN   \n",
       "3         835550    Heft 1 (1795)      835662    10.12.1795      NaN   \n",
       "4         835618    Heft 2 (1796)      835671    XX.XX.1796      NaN   \n",
       "\n",
       "                                                 max  id_digital  \\\n",
       "0  Section – Name: '23.11.1795', is part of: '(no...    24651936   \n",
       "1  Section – Name: '27.11.1795', is part of: '(no...    24651950   \n",
       "2  Section – Name: '28.11.1795', is part of: '(no...    24651951   \n",
       "3  Section – Name: '10.12.1795', is part of: '(no...    24651952   \n",
       "4  Section – Name: 'XX.XX.1796', is part of: '(no...    24651953   \n",
       "\n",
       "   text_version   id_text                                          quill_doc  \n",
       "0            10  23381914  {\"ops\": [{\"insert\": \"[\", \"attributes\": {\"chari...  \n",
       "1             5  23381935  {\"ops\": [{\"insert\": \"[\", \"attributes\": {\"chari...  \n",
       "2             8  23381937  {\"ops\": [{\"insert\": \"[\", \"attributes\": {\"chari...  \n",
       "3             6  23381939  {\"ops\": [{\"insert\": \"[\", \"attributes\": {\"chari...  \n",
       "4             6  23381941  {\"ops\": [{\"insert\": \"[\", \"attributes\": {\"chari...  "
      ]
     },
     "execution_count": 699,
     "metadata": {},
     "output_type": "execute_result"
    }
   ],
   "source": [
    "texts = pd.read_csv(texts_f, sep='#')\n",
    "print(len(texts))\n",
    "texts.head()"
   ]
  },
  {
   "cell_type": "code",
   "execution_count": 700,
   "id": "parallel-complement",
   "metadata": {},
   "outputs": [],
   "source": [
    "def f_split (a):    \n",
    "    try:\n",
    "        out = [e.strip() for e in a.split(',') if 'has type' in e][0].split(':')[1]\n",
    "    except:\n",
    "        out = ''\n",
    "    return out\n",
    "    "
   ]
  },
  {
   "cell_type": "code",
   "execution_count": 701,
   "id": "based-grace",
   "metadata": {},
   "outputs": [],
   "source": [
    "texts['section_type'] = texts['max'].apply(lambda x : f_split(x))"
   ]
  },
  {
   "cell_type": "code",
   "execution_count": 702,
   "id": "increasing-nomination",
   "metadata": {},
   "outputs": [
    {
     "data": {
      "text/html": [
       "<div>\n",
       "<style scoped>\n",
       "    .dataframe tbody tr th:only-of-type {\n",
       "        vertical-align: middle;\n",
       "    }\n",
       "\n",
       "    .dataframe tbody tr th {\n",
       "        vertical-align: top;\n",
       "    }\n",
       "\n",
       "    .dataframe thead th {\n",
       "        text-align: right;\n",
       "    }\n",
       "</style>\n",
       "<table border=\"1\" class=\"dataframe\">\n",
       "  <thead>\n",
       "    <tr style=\"text-align: right;\">\n",
       "      <th></th>\n",
       "      <th>id_manuscript</th>\n",
       "      <th>title_manuscript</th>\n",
       "      <th>id_section</th>\n",
       "      <th>title_section</th>\n",
       "      <th>fk_type</th>\n",
       "      <th>max</th>\n",
       "      <th>id_digital</th>\n",
       "      <th>text_version</th>\n",
       "      <th>id_text</th>\n",
       "      <th>quill_doc</th>\n",
       "      <th>section_type</th>\n",
       "    </tr>\n",
       "  </thead>\n",
       "  <tbody>\n",
       "    <tr>\n",
       "      <th>0</th>\n",
       "      <td>835550</td>\n",
       "      <td>Heft 1 (1795)</td>\n",
       "      <td>835573</td>\n",
       "      <td>23.11.1795</td>\n",
       "      <td>NaN</td>\n",
       "      <td>Section – Name: '23.11.1795', is part of: '(no...</td>\n",
       "      <td>24651936</td>\n",
       "      <td>10</td>\n",
       "      <td>23381914</td>\n",
       "      <td>{\"ops\": [{\"insert\": \"[\", \"attributes\": {\"chari...</td>\n",
       "      <td>'Tagebucheintrag'</td>\n",
       "    </tr>\n",
       "    <tr>\n",
       "      <th>1</th>\n",
       "      <td>835550</td>\n",
       "      <td>Heft 1 (1795)</td>\n",
       "      <td>835641</td>\n",
       "      <td>27.11.1795</td>\n",
       "      <td>NaN</td>\n",
       "      <td>Section – Name: '27.11.1795', is part of: '(no...</td>\n",
       "      <td>24651950</td>\n",
       "      <td>5</td>\n",
       "      <td>23381935</td>\n",
       "      <td>{\"ops\": [{\"insert\": \"[\", \"attributes\": {\"chari...</td>\n",
       "      <td>'Tagebucheintrag'</td>\n",
       "    </tr>\n",
       "    <tr>\n",
       "      <th>2</th>\n",
       "      <td>835550</td>\n",
       "      <td>Heft 1 (1795)</td>\n",
       "      <td>835651</td>\n",
       "      <td>28.11.1795</td>\n",
       "      <td>NaN</td>\n",
       "      <td>Section – Name: '28.11.1795', is part of: '(no...</td>\n",
       "      <td>24651951</td>\n",
       "      <td>8</td>\n",
       "      <td>23381937</td>\n",
       "      <td>{\"ops\": [{\"insert\": \"[\", \"attributes\": {\"chari...</td>\n",
       "      <td>'Tagebucheintrag'</td>\n",
       "    </tr>\n",
       "    <tr>\n",
       "      <th>3</th>\n",
       "      <td>835550</td>\n",
       "      <td>Heft 1 (1795)</td>\n",
       "      <td>835662</td>\n",
       "      <td>10.12.1795</td>\n",
       "      <td>NaN</td>\n",
       "      <td>Section – Name: '10.12.1795', is part of: '(no...</td>\n",
       "      <td>24651952</td>\n",
       "      <td>6</td>\n",
       "      <td>23381939</td>\n",
       "      <td>{\"ops\": [{\"insert\": \"[\", \"attributes\": {\"chari...</td>\n",
       "      <td>'Tagebucheintrag'</td>\n",
       "    </tr>\n",
       "    <tr>\n",
       "      <th>4</th>\n",
       "      <td>835618</td>\n",
       "      <td>Heft 2 (1796)</td>\n",
       "      <td>835671</td>\n",
       "      <td>XX.XX.1796</td>\n",
       "      <td>NaN</td>\n",
       "      <td>Section – Name: 'XX.XX.1796', is part of: '(no...</td>\n",
       "      <td>24651953</td>\n",
       "      <td>6</td>\n",
       "      <td>23381941</td>\n",
       "      <td>{\"ops\": [{\"insert\": \"[\", \"attributes\": {\"chari...</td>\n",
       "      <td>'Tagebucheintrag'</td>\n",
       "    </tr>\n",
       "  </tbody>\n",
       "</table>\n",
       "</div>"
      ],
      "text/plain": [
       "   id_manuscript title_manuscript  id_section title_section  fk_type  \\\n",
       "0         835550    Heft 1 (1795)      835573    23.11.1795      NaN   \n",
       "1         835550    Heft 1 (1795)      835641    27.11.1795      NaN   \n",
       "2         835550    Heft 1 (1795)      835651    28.11.1795      NaN   \n",
       "3         835550    Heft 1 (1795)      835662    10.12.1795      NaN   \n",
       "4         835618    Heft 2 (1796)      835671    XX.XX.1796      NaN   \n",
       "\n",
       "                                                 max  id_digital  \\\n",
       "0  Section – Name: '23.11.1795', is part of: '(no...    24651936   \n",
       "1  Section – Name: '27.11.1795', is part of: '(no...    24651950   \n",
       "2  Section – Name: '28.11.1795', is part of: '(no...    24651951   \n",
       "3  Section – Name: '10.12.1795', is part of: '(no...    24651952   \n",
       "4  Section – Name: 'XX.XX.1796', is part of: '(no...    24651953   \n",
       "\n",
       "   text_version   id_text                                          quill_doc  \\\n",
       "0            10  23381914  {\"ops\": [{\"insert\": \"[\", \"attributes\": {\"chari...   \n",
       "1             5  23381935  {\"ops\": [{\"insert\": \"[\", \"attributes\": {\"chari...   \n",
       "2             8  23381937  {\"ops\": [{\"insert\": \"[\", \"attributes\": {\"chari...   \n",
       "3             6  23381939  {\"ops\": [{\"insert\": \"[\", \"attributes\": {\"chari...   \n",
       "4             6  23381941  {\"ops\": [{\"insert\": \"[\", \"attributes\": {\"chari...   \n",
       "\n",
       "         section_type  \n",
       "0   'Tagebucheintrag'  \n",
       "1   'Tagebucheintrag'  \n",
       "2   'Tagebucheintrag'  \n",
       "3   'Tagebucheintrag'  \n",
       "4   'Tagebucheintrag'  "
      ]
     },
     "execution_count": 702,
     "metadata": {},
     "output_type": "execute_result"
    }
   ],
   "source": [
    "texts.head()"
   ]
  },
  {
   "cell_type": "markdown",
   "id": "touched-attraction",
   "metadata": {},
   "source": [
    "## Analyse textes"
   ]
  },
  {
   "cell_type": "code",
   "execution_count": 703,
   "id": "bizarre-dairy",
   "metadata": {
    "scrolled": true,
    "tags": []
   },
   "outputs": [
    {
     "name": "stdout",
     "output_type": "stream",
     "text": [
      "32\n"
     ]
    },
    {
     "data": {
      "text/plain": [
       "id_manuscript\n",
       "835550     4\n",
       "835618     7\n",
       "870956     1\n",
       "871001     9\n",
       "871145    19\n",
       "872613     1\n",
       "872634     6\n",
       "872738     4\n",
       "872829     5\n",
       "872914    19\n",
       "874182    65\n",
       "884918    18\n",
       "891345    27\n",
       "891868    23\n",
       "892262    14\n",
       "897087    28\n",
       "897353    30\n",
       "897614    30\n",
       "897895     3\n",
       "897928    31\n",
       "898223    28\n",
       "898485    25\n",
       "906998    45\n",
       "907422    30\n",
       "907703    26\n",
       "907947    33\n",
       "908256    36\n",
       "908597    49\n",
       "908609    49\n",
       "908620    44\n",
       "908630    35\n",
       "908642    37\n",
       "dtype: int64"
      ]
     },
     "execution_count": 703,
     "metadata": {},
     "output_type": "execute_result"
    }
   ],
   "source": [
    "### Effectifs sections-textes par cahier\n",
    "ts = texts.groupby('id_manuscript').size()   ##.count()\n",
    "print(len(ts))\n",
    "ts"
   ]
  },
  {
   "cell_type": "code",
   "execution_count": null,
   "id": "impressive-denver",
   "metadata": {
    "scrolled": true,
    "tags": []
   },
   "outputs": [],
   "source": [
    "### Liste des manuscrits (= cahiers, 'Hefte')\n",
    "list(ts.index)"
   ]
  },
  {
   "cell_type": "markdown",
   "id": "scientific-venice",
   "metadata": {},
   "source": [
    "### Dictionnaire des textes : texts_li"
   ]
  },
  {
   "cell_type": "code",
   "execution_count": null,
   "id": "distinct-check",
   "metadata": {
    "scrolled": true,
    "tags": []
   },
   "outputs": [],
   "source": [
    "texts_li = texts.to_dict(orient='records')\n",
    "texts_li[0]"
   ]
  },
  {
   "cell_type": "code",
   "execution_count": null,
   "id": "elegant-fifteen",
   "metadata": {},
   "outputs": [],
   "source": []
  },
  {
   "cell_type": "markdown",
   "id": "exposed-acrylic",
   "metadata": {},
   "source": [
    "### Dictionnaire des cahiers : hefte_li"
   ]
  },
  {
   "cell_type": "code",
   "execution_count": 706,
   "id": "prompt-thing",
   "metadata": {
    "scrolled": true,
    "tags": []
   },
   "outputs": [
    {
     "data": {
      "text/plain": [
       "[{'id_manuscript': 835550, 'title_manuscript': 'Heft 1 (1795)'},\n",
       " {'id_manuscript': 835618, 'title_manuscript': 'Heft 2 (1796)'},\n",
       " {'id_manuscript': 870956, 'title_manuscript': 'Heft 3 (1796)'},\n",
       " {'id_manuscript': 871001, 'title_manuscript': 'Heft 4 (1796)'},\n",
       " {'id_manuscript': 871145, 'title_manuscript': 'Heft 5 (1797)'},\n",
       " {'id_manuscript': 872613, 'title_manuscript': 'Heft 6 (1797)'},\n",
       " {'id_manuscript': 872634, 'title_manuscript': 'Heft 7 (1798)'},\n",
       " {'id_manuscript': 872738, 'title_manuscript': 'Heft 8 (1798)'},\n",
       " {'id_manuscript': 872829, 'title_manuscript': 'Heft 9 (1801)'},\n",
       " {'id_manuscript': 872914, 'title_manuscript': 'Heft 10 (1807-1810)'},\n",
       " {'id_manuscript': 874182, 'title_manuscript': 'Heft 11 (1810-1815)'},\n",
       " {'id_manuscript': 884918, 'title_manuscript': 'Heft 12 (1815-1816)'},\n",
       " {'id_manuscript': 891345, 'title_manuscript': 'Heft 13 (1816-1817)'},\n",
       " {'id_manuscript': 891868, 'title_manuscript': 'Heft 14 (1816-1817)'},\n",
       " {'id_manuscript': 892262, 'title_manuscript': 'Heft 15 (1818-1819)'},\n",
       " {'id_manuscript': 897087, 'title_manuscript': 'Heft 16 (1819-1821)'},\n",
       " {'id_manuscript': 897353, 'title_manuscript': 'Heft 17 (1821-1822)'},\n",
       " {'id_manuscript': 897614, 'title_manuscript': 'Heft 18 (1822-1823)'},\n",
       " {'id_manuscript': 897895, 'title_manuscript': 'Heft 19 (1823-1823)'},\n",
       " {'id_manuscript': 897928, 'title_manuscript': 'Heft 20 (1824-1824)'},\n",
       " {'id_manuscript': 898223, 'title_manuscript': 'Heft 21 (1824-1825)'},\n",
       " {'id_manuscript': 898485, 'title_manuscript': 'Heft 22 (1825-1826)'},\n",
       " {'id_manuscript': 906998, 'title_manuscript': 'Heft 23 (1826-1827)'},\n",
       " {'id_manuscript': 907422, 'title_manuscript': 'Heft 24 (1827)'},\n",
       " {'id_manuscript': 907703, 'title_manuscript': 'Heft 25 (1827-1828)'},\n",
       " {'id_manuscript': 907947, 'title_manuscript': 'Heft 26 (1828-1829)'},\n",
       " {'id_manuscript': 908256, 'title_manuscript': 'Heft 27 (1829-1830)'},\n",
       " {'id_manuscript': 908597, 'title_manuscript': 'Heft 28 (1830-1831)'},\n",
       " {'id_manuscript': 908609, 'title_manuscript': 'Heft 29 (1831)'},\n",
       " {'id_manuscript': 908620, 'title_manuscript': 'Heft 30 (1832-1833)'},\n",
       " {'id_manuscript': 908630, 'title_manuscript': 'Heft 31 (1833-1834)'},\n",
       " {'id_manuscript': 908642, 'title_manuscript': 'Heft 32 (1834-1839)'}]"
      ]
     },
     "execution_count": 706,
     "metadata": {},
     "output_type": "execute_result"
    }
   ],
   "source": [
    "hefte_li = texts[['id_manuscript','title_manuscript']].drop_duplicates().to_dict(orient='records')\n",
    "hefte_li"
   ]
  },
  {
   "cell_type": "markdown",
   "id": "going-paint",
   "metadata": {},
   "source": [
    "### Doublons\n",
    "\n",
    "Parfois il y a deux textes pour la même section"
   ]
  },
  {
   "cell_type": "code",
   "execution_count": 707,
   "id": "intellectual-plumbing",
   "metadata": {},
   "outputs": [
    {
     "data": {
      "text/html": [
       "<div>\n",
       "<style scoped>\n",
       "    .dataframe tbody tr th:only-of-type {\n",
       "        vertical-align: middle;\n",
       "    }\n",
       "\n",
       "    .dataframe tbody tr th {\n",
       "        vertical-align: top;\n",
       "    }\n",
       "\n",
       "    .dataframe thead th {\n",
       "        text-align: right;\n",
       "    }\n",
       "</style>\n",
       "<table border=\"1\" class=\"dataframe\">\n",
       "  <thead>\n",
       "    <tr style=\"text-align: right;\">\n",
       "      <th></th>\n",
       "      <th>id_manuscript</th>\n",
       "      <th>title_manuscript</th>\n",
       "      <th>id_section</th>\n",
       "      <th>title_section</th>\n",
       "      <th>fk_type</th>\n",
       "      <th>max</th>\n",
       "      <th>id_digital</th>\n",
       "      <th>text_version</th>\n",
       "      <th>id_text</th>\n",
       "      <th>quill_doc</th>\n",
       "      <th>section_type</th>\n",
       "    </tr>\n",
       "  </thead>\n",
       "  <tbody>\n",
       "    <tr>\n",
       "      <th>13</th>\n",
       "      <td>871001</td>\n",
       "      <td>Heft 4 (1796)</td>\n",
       "      <td>871027</td>\n",
       "      <td>15.02.1797</td>\n",
       "      <td>NaN</td>\n",
       "      <td>Section – Name: '15.02.1797', is part of: '(no...</td>\n",
       "      <td>24657454</td>\n",
       "      <td>3</td>\n",
       "      <td>23387970</td>\n",
       "      <td>{\"ops\": [{\"insert\": \"[\", \"attributes\": {\"chari...</td>\n",
       "      <td>'Tagebucheintrag'</td>\n",
       "    </tr>\n",
       "    <tr>\n",
       "      <th>14</th>\n",
       "      <td>871001</td>\n",
       "      <td>Heft 4 (1796)</td>\n",
       "      <td>871027</td>\n",
       "      <td>15.02.1797</td>\n",
       "      <td>NaN</td>\n",
       "      <td>Section – Name: '15.02.1797', is part of: '(no...</td>\n",
       "      <td>24657457</td>\n",
       "      <td>3</td>\n",
       "      <td>23387973</td>\n",
       "      <td>{\"ops\": [{\"insert\": \"[\", \"attributes\": {\"chari...</td>\n",
       "      <td>'Tagebucheintrag'</td>\n",
       "    </tr>\n",
       "  </tbody>\n",
       "</table>\n",
       "</div>"
      ],
      "text/plain": [
       "    id_manuscript title_manuscript  id_section title_section  fk_type  \\\n",
       "13         871001    Heft 4 (1796)      871027    15.02.1797      NaN   \n",
       "14         871001    Heft 4 (1796)      871027    15.02.1797      NaN   \n",
       "\n",
       "                                                  max  id_digital  \\\n",
       "13  Section – Name: '15.02.1797', is part of: '(no...    24657454   \n",
       "14  Section – Name: '15.02.1797', is part of: '(no...    24657457   \n",
       "\n",
       "    text_version   id_text                                          quill_doc  \\\n",
       "13             3  23387970  {\"ops\": [{\"insert\": \"[\", \"attributes\": {\"chari...   \n",
       "14             3  23387973  {\"ops\": [{\"insert\": \"[\", \"attributes\": {\"chari...   \n",
       "\n",
       "          section_type  \n",
       "13   'Tagebucheintrag'  \n",
       "14   'Tagebucheintrag'  "
      ]
     },
     "execution_count": 707,
     "metadata": {},
     "output_type": "execute_result"
    }
   ],
   "source": [
    "texts[texts['id_section'] == 871027]"
   ]
  },
  {
   "cell_type": "code",
   "execution_count": 708,
   "id": "humanitarian-wales",
   "metadata": {},
   "outputs": [
    {
     "name": "stdout",
     "output_type": "stream",
     "text": [
      "775\n"
     ]
    },
    {
     "data": {
      "text/plain": [
       "id_section\n",
       "871027    2\n",
       "884961    3\n",
       "891460    2\n",
       "891508    2\n",
       "892343    2\n",
       "dtype: int64"
      ]
     },
     "execution_count": 708,
     "metadata": {},
     "output_type": "execute_result"
    }
   ],
   "source": [
    "### Effectifs sections-textes par cahier\n",
    "ts = texts.groupby('id_section').size()   ##.count()\n",
    "print(len(ts))\n",
    "s = ts[ts > 1]\n",
    "s"
   ]
  },
  {
   "cell_type": "markdown",
   "id": "manual-trinity",
   "metadata": {},
   "source": [
    "## Exemple de texte"
   ]
  },
  {
   "cell_type": "code",
   "execution_count": null,
   "id": "strategic-client",
   "metadata": {
    "scrolled": true,
    "tags": []
   },
   "outputs": [],
   "source": [
    "data = json.loads(texts_li[0]['quill_doc'])\n",
    "print(type(data), data)"
   ]
  },
  {
   "cell_type": "code",
   "execution_count": 115,
   "id": "searching-terminal",
   "metadata": {
    "scrolled": true,
    "tags": []
   },
   "outputs": [
    {
     "data": {
      "text/plain": [
       "[{'insert': '[', 'attributes': {'charid': '2767'}},\n",
       " {'insert': '2', 'attributes': {'charid': '20'}},\n",
       " {'insert': '3', 'attributes': {'charid': '21'}},\n",
       " {'insert': '.', 'attributes': {'charid': '22'}},\n",
       " {'insert': ' ', 'attributes': {'charid': '23'}},\n",
       " {'insert': 'N', 'attributes': {'charid': '24'}},\n",
       " {'insert': 'o', 'attributes': {'charid': '25'}},\n",
       " {'insert': 'v', 'attributes': {'charid': '26'}},\n",
       " {'insert': 'e', 'attributes': {'charid': '27'}},\n",
       " {'insert': 'm', 'attributes': {'charid': '28'}}]"
      ]
     },
     "execution_count": 115,
     "metadata": {},
     "output_type": "execute_result"
    }
   ],
   "source": [
    "insert_l = data['ops']\n",
    "insert_l[:10]"
   ]
  },
  {
   "cell_type": "code",
   "execution_count": 116,
   "id": "honey-blackberry",
   "metadata": {},
   "outputs": [
    {
     "data": {
      "text/plain": [
       "list"
      ]
     },
     "execution_count": 116,
     "metadata": {},
     "output_type": "execute_result"
    }
   ],
   "source": [
    "type(insert_l)"
   ]
  },
  {
   "cell_type": "code",
   "execution_count": 117,
   "id": "adopted-cruise",
   "metadata": {},
   "outputs": [
    {
     "name": "stdout",
     "output_type": "stream",
     "text": [
      "[23. November 1795]\n",
      "\n",
      "[3]\n",
      "\n",
      "95 11 23\n",
      "Wer mir die für mich bittere Wahrheit \n",
      "sagt, ohne den geringsten Eigenuz dabei zu \n",
      "haben, der muß Achtung und Freundschaft für mich \n",
      "haben, und ich kan ihm die meinige, ohne Un-\n",
      "gerechtigkeit nicht versagen. Ich wäre der \n",
      "Achtung nicht werth wen ich diese Wahrheiten \n",
      "nicht scharf zu Herzen nehme und nicht trachtete \n",
      "die mir vorgeworfenen Fehler an mir zu \n",
      "bessern. Es wird schwer halten, obschon ich \n",
      "den besten Willen dazu habe.\n",
      "Ich hätte einen allzu strengen sittlichen Stolz \n",
      "der mich, bei der geringsten Bemerkung eines \n",
      "Fehlers an Andern, hindere, das Gute zu bemerken, \n",
      "das an ihnen ist, und mich von den \n",
      "Menschen zurückzöge, und in Fall setze ungerecht gegen sie\n",
      "zu sein. Es mag vieles daran wahr sein, \n",
      "doch glaube ich daß auch vieles Misverstand dabei \n",
      "einlaufe.\n",
      "Der Anlas war gewiß mein Betragen gegen S. aber \n",
      "gewiß ich schätz diesen Menschen finde viel edles \n",
      "an ihm. Die Ursache warum ich mich <und die Meinigen> von ihm so viel möglich entferne, sind ganz andere Beweggründe als \n",
      "Verachtung. So viel hoffe ich aber daß man nicht \n",
      "\n",
      "[4]\n",
      "\n",
      "von mir glauben wird daß seine Herkunft und Mangel \n",
      "an Vermögen, ihm weniger Achtung von mir zuzöge \n",
      "Ich schäze gewiß einen Menschen mehr der auf \n",
      "persönliche Eigenschaften stolz ist, als Einer der \n",
      "es auf Stand und Vermögen wäre.\n",
      "Aber immer steigt die Frage in mir auf, \n",
      "wenn diesem Menschen Stand und Vermögen zu \n",
      "theil geworden wäre, würde er auch dan nicht \n",
      "mehr darauf halten, als der Weise es thun \n",
      "soll? Ist es seine Lage oder sind es seine \n",
      "Gesinnungen, die ihn den Werth der Dinge \n",
      "schätzen machen?\n",
      "\n",
      "\n"
     ]
    }
   ],
   "source": [
    "print(''.join([l['insert'] for l in insert_l]))"
   ]
  },
  {
   "cell_type": "markdown",
   "id": "isolated-attempt",
   "metadata": {},
   "source": [
    "# Chunks"
   ]
  },
  {
   "cell_type": "code",
   "execution_count": 719,
   "id": "united-gnome",
   "metadata": {},
   "outputs": [],
   "source": [
    "chunks_f = 'texte/all_chunks_20220116.csv'"
   ]
  },
  {
   "cell_type": "code",
   "execution_count": 720,
   "id": "productive-yahoo",
   "metadata": {},
   "outputs": [
    {
     "name": "stdout",
     "output_type": "stream",
     "text": [
      "4318\n"
     ]
    },
    {
     "data": {
      "text/html": [
       "<div>\n",
       "<style scoped>\n",
       "    .dataframe tbody tr th:only-of-type {\n",
       "        vertical-align: middle;\n",
       "    }\n",
       "\n",
       "    .dataframe tbody tr th {\n",
       "        vertical-align: top;\n",
       "    }\n",
       "\n",
       "    .dataframe thead th {\n",
       "        text-align: right;\n",
       "    }\n",
       "</style>\n",
       "<table border=\"1\" class=\"dataframe\">\n",
       "  <thead>\n",
       "    <tr style=\"text-align: right;\">\n",
       "      <th></th>\n",
       "      <th>id_manuscript</th>\n",
       "      <th>id_section</th>\n",
       "      <th>id_text</th>\n",
       "      <th>id_entity</th>\n",
       "      <th>entity_label</th>\n",
       "      <th>fk_class</th>\n",
       "      <th>class_label</th>\n",
       "      <th>pk_entity</th>\n",
       "      <th>schema_name</th>\n",
       "      <th>table_name</th>\n",
       "      <th>...</th>\n",
       "      <th>metadata</th>\n",
       "      <th>pk_text</th>\n",
       "      <th>quill_doc</th>\n",
       "      <th>string</th>\n",
       "      <th>fk_text</th>\n",
       "      <th>fk_entity_version</th>\n",
       "      <th>id_for_import</th>\n",
       "      <th>id_for_import_txt</th>\n",
       "      <th>fk_publication_status</th>\n",
       "      <th>fk_license</th>\n",
       "    </tr>\n",
       "  </thead>\n",
       "  <tbody>\n",
       "    <tr>\n",
       "      <th>0</th>\n",
       "      <td>835550</td>\n",
       "      <td>835573</td>\n",
       "      <td>23381914</td>\n",
       "      <td>873964</td>\n",
       "      <td>Selbstkritik</td>\n",
       "      <td>635</td>\n",
       "      <td>Tag</td>\n",
       "      <td>24659470</td>\n",
       "      <td>data</td>\n",
       "      <td>chunk</td>\n",
       "      <td>...</td>\n",
       "      <td>NaN</td>\n",
       "      <td>23390137</td>\n",
       "      <td>{\"ops\": [{\"insert\": \"F\", \"attributes\": {\"chari...</td>\n",
       "      <td>Fehler an mir zu \\nbessern</td>\n",
       "      <td>23381914</td>\n",
       "      <td>6</td>\n",
       "      <td>NaN</td>\n",
       "      <td>NaN</td>\n",
       "      <td>NaN</td>\n",
       "      <td>NaN</td>\n",
       "    </tr>\n",
       "    <tr>\n",
       "      <th>1</th>\n",
       "      <td>835550</td>\n",
       "      <td>835573</td>\n",
       "      <td>23381914</td>\n",
       "      <td>873957</td>\n",
       "      <td>Freundschaft</td>\n",
       "      <td>635</td>\n",
       "      <td>Tag</td>\n",
       "      <td>24659471</td>\n",
       "      <td>data</td>\n",
       "      <td>chunk</td>\n",
       "      <td>...</td>\n",
       "      <td>NaN</td>\n",
       "      <td>23390138</td>\n",
       "      <td>{\"ops\": [{\"insert\": \"F\", \"attributes\": {\"chari...</td>\n",
       "      <td>Freundschaft</td>\n",
       "      <td>23381914</td>\n",
       "      <td>6</td>\n",
       "      <td>NaN</td>\n",
       "      <td>NaN</td>\n",
       "      <td>NaN</td>\n",
       "      <td>NaN</td>\n",
       "    </tr>\n",
       "    <tr>\n",
       "      <th>2</th>\n",
       "      <td>835550</td>\n",
       "      <td>835573</td>\n",
       "      <td>23381914</td>\n",
       "      <td>873838</td>\n",
       "      <td>Unbekannte Person</td>\n",
       "      <td>635</td>\n",
       "      <td>Tag</td>\n",
       "      <td>24679027</td>\n",
       "      <td>data</td>\n",
       "      <td>chunk</td>\n",
       "      <td>...</td>\n",
       "      <td>NaN</td>\n",
       "      <td>23411801</td>\n",
       "      <td>{\"ops\": [{\"insert\": \"S\", \"attributes\": {\"chari...</td>\n",
       "      <td>S.</td>\n",
       "      <td>23381914</td>\n",
       "      <td>8</td>\n",
       "      <td>NaN</td>\n",
       "      <td>NaN</td>\n",
       "      <td>NaN</td>\n",
       "      <td>NaN</td>\n",
       "    </tr>\n",
       "    <tr>\n",
       "      <th>3</th>\n",
       "      <td>835550</td>\n",
       "      <td>835573</td>\n",
       "      <td>23381914</td>\n",
       "      <td>874090</td>\n",
       "      <td>Personenbeschreibung</td>\n",
       "      <td>635</td>\n",
       "      <td>Tag</td>\n",
       "      <td>24679028</td>\n",
       "      <td>data</td>\n",
       "      <td>chunk</td>\n",
       "      <td>...</td>\n",
       "      <td>NaN</td>\n",
       "      <td>23411802</td>\n",
       "      <td>{\"ops\": [{\"insert\": \"s\", \"attributes\": {\"chari...</td>\n",
       "      <td>seine Herkunft</td>\n",
       "      <td>23381914</td>\n",
       "      <td>9</td>\n",
       "      <td>NaN</td>\n",
       "      <td>NaN</td>\n",
       "      <td>NaN</td>\n",
       "      <td>NaN</td>\n",
       "    </tr>\n",
       "    <tr>\n",
       "      <th>4</th>\n",
       "      <td>835550</td>\n",
       "      <td>835573</td>\n",
       "      <td>23381914</td>\n",
       "      <td>874226</td>\n",
       "      <td>Gedanken zur Gesellschaft</td>\n",
       "      <td>635</td>\n",
       "      <td>Tag</td>\n",
       "      <td>24679029</td>\n",
       "      <td>data</td>\n",
       "      <td>chunk</td>\n",
       "      <td>...</td>\n",
       "      <td>NaN</td>\n",
       "      <td>23411803</td>\n",
       "      <td>{\"ops\": [{\"insert\": \"S\", \"attributes\": {\"chari...</td>\n",
       "      <td>Stand</td>\n",
       "      <td>23381914</td>\n",
       "      <td>9</td>\n",
       "      <td>NaN</td>\n",
       "      <td>NaN</td>\n",
       "      <td>NaN</td>\n",
       "      <td>NaN</td>\n",
       "    </tr>\n",
       "  </tbody>\n",
       "</table>\n",
       "<p>5 rows × 28 columns</p>\n",
       "</div>"
      ],
      "text/plain": [
       "   id_manuscript  id_section   id_text  id_entity               entity_label  \\\n",
       "0         835550      835573  23381914     873964               Selbstkritik   \n",
       "1         835550      835573  23381914     873957               Freundschaft   \n",
       "2         835550      835573  23381914     873838          Unbekannte Person   \n",
       "3         835550      835573  23381914     874090       Personenbeschreibung   \n",
       "4         835550      835573  23381914     874226  Gedanken zur Gesellschaft   \n",
       "\n",
       "   fk_class class_label  pk_entity schema_name table_name  ...  metadata  \\\n",
       "0       635         Tag   24659470        data      chunk  ...       NaN   \n",
       "1       635         Tag   24659471        data      chunk  ...       NaN   \n",
       "2       635         Tag   24679027        data      chunk  ...       NaN   \n",
       "3       635         Tag   24679028        data      chunk  ...       NaN   \n",
       "4       635         Tag   24679029        data      chunk  ...       NaN   \n",
       "\n",
       "    pk_text                                          quill_doc  \\\n",
       "0  23390137  {\"ops\": [{\"insert\": \"F\", \"attributes\": {\"chari...   \n",
       "1  23390138  {\"ops\": [{\"insert\": \"F\", \"attributes\": {\"chari...   \n",
       "2  23411801  {\"ops\": [{\"insert\": \"S\", \"attributes\": {\"chari...   \n",
       "3  23411802  {\"ops\": [{\"insert\": \"s\", \"attributes\": {\"chari...   \n",
       "4  23411803  {\"ops\": [{\"insert\": \"S\", \"attributes\": {\"chari...   \n",
       "\n",
       "                       string   fk_text fk_entity_version id_for_import  \\\n",
       "0  Fehler an mir zu \\nbessern  23381914                 6           NaN   \n",
       "1                Freundschaft  23381914                 6           NaN   \n",
       "2                          S.  23381914                 8           NaN   \n",
       "3             seine Herkunft   23381914                 9           NaN   \n",
       "4                       Stand  23381914                 9           NaN   \n",
       "\n",
       "  id_for_import_txt  fk_publication_status  fk_license  \n",
       "0               NaN                    NaN         NaN  \n",
       "1               NaN                    NaN         NaN  \n",
       "2               NaN                    NaN         NaN  \n",
       "3               NaN                    NaN         NaN  \n",
       "4               NaN                    NaN         NaN  \n",
       "\n",
       "[5 rows x 28 columns]"
      ]
     },
     "execution_count": 720,
     "metadata": {},
     "output_type": "execute_result"
    }
   ],
   "source": [
    "chunks = pd.read_csv(chunks_f, sep='#')\n",
    "\n",
    "print(len(chunks))\n",
    "chunks.head()"
   ]
  },
  {
   "cell_type": "code",
   "execution_count": null,
   "id": "demanding-radical",
   "metadata": {},
   "outputs": [],
   "source": []
  },
  {
   "cell_type": "raw",
   "id": "ideal-silly",
   "metadata": {},
   "source": [
    "### Éliminer espaces en trop et charactère unicode – espace non sécable\n",
    "chunks['entity_label'] = chunks['entity_label'].apply(lambda x : str(x).strip().replace(u'\\xa0', u' '))"
   ]
  },
  {
   "cell_type": "markdown",
   "id": "religious-bracelet",
   "metadata": {},
   "source": [
    "## Analyse des fréquences"
   ]
  },
  {
   "cell_type": "code",
   "execution_count": 149,
   "id": "regular-brass",
   "metadata": {
    "scrolled": true,
    "tags": []
   },
   "outputs": [
    {
     "data": {
      "text/plain": [
       "id_manuscript\n",
       "835550     22\n",
       "835618     45\n",
       "870956      3\n",
       "871001     75\n",
       "871145     79\n",
       "872613      5\n",
       "872634     30\n",
       "872738     13\n",
       "872829     21\n",
       "872914     98\n",
       "874182    347\n",
       "884918    119\n",
       "891345    107\n",
       "891868     90\n",
       "892262     72\n",
       "897087    202\n",
       "897353    180\n",
       "897614    200\n",
       "897895     10\n",
       "897928    243\n",
       "898485    190\n",
       "906998    299\n",
       "907422    199\n",
       "907703    143\n",
       "907947    194\n",
       "908256    246\n",
       "908597    281\n",
       "908609    222\n",
       "908620    261\n",
       "908630    183\n",
       "908642    139\n",
       "dtype: int64"
      ]
     },
     "execution_count": 149,
     "metadata": {},
     "output_type": "execute_result"
    }
   ],
   "source": [
    "### Fréquence par manuscrit\n",
    "\n",
    "chunks.groupby('id_manuscript').size()"
   ]
  },
  {
   "cell_type": "code",
   "execution_count": null,
   "id": "efficient-favorite",
   "metadata": {},
   "outputs": [],
   "source": []
  },
  {
   "cell_type": "code",
   "execution_count": 96,
   "id": "chronic-robert",
   "metadata": {},
   "outputs": [
    {
     "data": {
      "text/html": [
       "<div>\n",
       "<style scoped>\n",
       "    .dataframe tbody tr th:only-of-type {\n",
       "        vertical-align: middle;\n",
       "    }\n",
       "\n",
       "    .dataframe tbody tr th {\n",
       "        vertical-align: top;\n",
       "    }\n",
       "\n",
       "    .dataframe thead th {\n",
       "        text-align: right;\n",
       "    }\n",
       "</style>\n",
       "<table border=\"1\" class=\"dataframe\">\n",
       "  <thead>\n",
       "    <tr style=\"text-align: right;\">\n",
       "      <th></th>\n",
       "      <th>id_entity</th>\n",
       "      <th>entity_label</th>\n",
       "      <th>fk_class</th>\n",
       "      <th>class_label</th>\n",
       "    </tr>\n",
       "  </thead>\n",
       "  <tbody>\n",
       "    <tr>\n",
       "      <th>0</th>\n",
       "      <td>873964</td>\n",
       "      <td>Selbstkritik</td>\n",
       "      <td>635</td>\n",
       "      <td>Tag</td>\n",
       "    </tr>\n",
       "    <tr>\n",
       "      <th>1</th>\n",
       "      <td>873957</td>\n",
       "      <td>Freundschaft</td>\n",
       "      <td>635</td>\n",
       "      <td>Tag</td>\n",
       "    </tr>\n",
       "    <tr>\n",
       "      <th>2</th>\n",
       "      <td>873838</td>\n",
       "      <td>Unbekannte Person</td>\n",
       "      <td>635</td>\n",
       "      <td>Tag</td>\n",
       "    </tr>\n",
       "  </tbody>\n",
       "</table>\n",
       "</div>"
      ],
      "text/plain": [
       "   id_entity       entity_label  fk_class class_label\n",
       "0     873964       Selbstkritik       635         Tag\n",
       "1     873957       Freundschaft       635         Tag\n",
       "2     873838  Unbekannte Person       635         Tag"
      ]
     },
     "execution_count": 96,
     "metadata": {},
     "output_type": "execute_result"
    }
   ],
   "source": [
    "### Liste des entités (et non des mentions)\n",
    "distinct_chunks = chunks.drop_duplicates(['id_entity','entity_label','fk_class','class_label'])[['id_entity','entity_label','fk_class','class_label']]\n",
    "distinct_chunks[:3]"
   ]
  },
  {
   "cell_type": "markdown",
   "id": "vertical-challenge",
   "metadata": {},
   "source": [
    "### Dictionnaire des entités : distinct_chunks_li\n",
    "\n"
   ]
  },
  {
   "cell_type": "code",
   "execution_count": 721,
   "id": "stuffed-speed",
   "metadata": {},
   "outputs": [
    {
     "data": {
      "text/plain": [
       "{'id_entity': 884071,\n",
       " 'entity_label': 'Wetter',\n",
       " 'fk_class': 635,\n",
       " 'class_label': 'Tag'}"
      ]
     },
     "execution_count": 721,
     "metadata": {},
     "output_type": "execute_result"
    }
   ],
   "source": [
    "distinct_chunks_li = distinct_chunks.to_dict(orient='records')\n",
    "distinct_chunks_li[0]"
   ]
  },
  {
   "cell_type": "code",
   "execution_count": null,
   "id": "mathematical-gregory",
   "metadata": {
    "tags": []
   },
   "outputs": [],
   "source": []
  },
  {
   "cell_type": "code",
   "execution_count": null,
   "id": "annual-evening",
   "metadata": {},
   "outputs": [],
   "source": []
  },
  {
   "cell_type": "code",
   "execution_count": null,
   "id": "formed-republic",
   "metadata": {},
   "outputs": [],
   "source": []
  },
  {
   "cell_type": "code",
   "execution_count": 68,
   "id": "acute-anchor",
   "metadata": {},
   "outputs": [
    {
     "name": "stdout",
     "output_type": "stream",
     "text": [
      "4\n"
     ]
    },
    {
     "data": {
      "text/plain": [
       "class_label\n",
       "Geographical Place            3\n",
       "Person                      284\n",
       "Serially Produced Source    176\n",
       "Tag                          98\n",
       "dtype: int64"
      ]
     },
     "execution_count": 68,
     "metadata": {},
     "output_type": "execute_result"
    }
   ],
   "source": [
    "### Effectifs des classes présentes dans les entités\n",
    "classes = distinct_chunks.groupby('class_label').size()   ##.count()\n",
    "print(len(classes))\n",
    "classes"
   ]
  },
  {
   "cell_type": "code",
   "execution_count": 72,
   "id": "embedded-narrative",
   "metadata": {},
   "outputs": [
    {
     "data": {
      "text/plain": [
       "class_label\n",
       "Geographical Place            12\n",
       "Person                      1169\n",
       "Serially Produced Source     261\n",
       "Tag                         2876\n",
       "dtype: int64"
      ]
     },
     "execution_count": 72,
     "metadata": {},
     "output_type": "execute_result"
    }
   ],
   "source": [
    "### Effectif des individus mentionnées par classe\n",
    "mention_classes = chunks.groupby('class_label').size()   ##.count()\n",
    "mention_classes"
   ]
  },
  {
   "cell_type": "code",
   "execution_count": 89,
   "id": "patent-mexico",
   "metadata": {},
   "outputs": [
    {
     "data": {
      "text/html": [
       "<div>\n",
       "<style scoped>\n",
       "    .dataframe tbody tr th:only-of-type {\n",
       "        vertical-align: middle;\n",
       "    }\n",
       "\n",
       "    .dataframe tbody tr th {\n",
       "        vertical-align: top;\n",
       "    }\n",
       "\n",
       "    .dataframe thead th {\n",
       "        text-align: right;\n",
       "    }\n",
       "</style>\n",
       "<table border=\"1\" class=\"dataframe\">\n",
       "  <thead>\n",
       "    <tr style=\"text-align: right;\">\n",
       "      <th></th>\n",
       "      <th>mentions</th>\n",
       "      <th>freq</th>\n",
       "      <th>mean</th>\n",
       "    </tr>\n",
       "    <tr>\n",
       "      <th>class_label</th>\n",
       "      <th></th>\n",
       "      <th></th>\n",
       "      <th></th>\n",
       "    </tr>\n",
       "  </thead>\n",
       "  <tbody>\n",
       "    <tr>\n",
       "      <th>Geographical Place</th>\n",
       "      <td>12</td>\n",
       "      <td>3</td>\n",
       "      <td>4.000000</td>\n",
       "    </tr>\n",
       "    <tr>\n",
       "      <th>Person</th>\n",
       "      <td>1169</td>\n",
       "      <td>284</td>\n",
       "      <td>4.116197</td>\n",
       "    </tr>\n",
       "    <tr>\n",
       "      <th>Serially Produced Source</th>\n",
       "      <td>261</td>\n",
       "      <td>176</td>\n",
       "      <td>1.482955</td>\n",
       "    </tr>\n",
       "    <tr>\n",
       "      <th>Tag</th>\n",
       "      <td>2876</td>\n",
       "      <td>98</td>\n",
       "      <td>29.346939</td>\n",
       "    </tr>\n",
       "  </tbody>\n",
       "</table>\n",
       "</div>"
      ],
      "text/plain": [
       "                          mentions  freq       mean\n",
       "class_label                                        \n",
       "Geographical Place              12     3   4.000000\n",
       "Person                        1169   284   4.116197\n",
       "Serially Produced Source       261   176   1.482955\n",
       "Tag                           2876    98  29.346939"
      ]
     },
     "execution_count": 89,
     "metadata": {},
     "output_type": "execute_result"
    }
   ],
   "source": [
    "### Moyenne mention par individu de classe\n",
    "\n",
    "cla_men = pd.DataFrame(mention_classes).merge(pd.DataFrame(classes), on = 'class_label')\n",
    "cla_men.columns =['mentions', 'freq']\n",
    "\n",
    "def func(x):\n",
    "    return x[0] / x[1]\n",
    "\n",
    "cla_men['mean'] = cla_men.apply(func, axis = 1)\n",
    "cla_men"
   ]
  },
  {
   "cell_type": "code",
   "execution_count": null,
   "id": "willing-monte",
   "metadata": {},
   "outputs": [],
   "source": []
  },
  {
   "cell_type": "code",
   "execution_count": 90,
   "id": "hungarian-acoustic",
   "metadata": {
    "scrolled": true,
    "tags": []
   },
   "outputs": [
    {
     "name": "stdout",
     "output_type": "stream",
     "text": [
      "3\n"
     ]
    },
    {
     "data": {
      "text/plain": [
       "{'Basel CH': 10, 'Binningen CH': 1, 'Neuenburg CH': 1}"
      ]
     },
     "execution_count": 90,
     "metadata": {},
     "output_type": "execute_result"
    }
   ],
   "source": [
    "mention_entities = chunks[chunks['class_label'].str.contains(\"Pla\")].groupby('entity_label').size()\n",
    "print(len(mention_entities))\n",
    "mention_entities.sort_values(ascending = False).to_dict()"
   ]
  },
  {
   "cell_type": "code",
   "execution_count": 91,
   "id": "verified-delay",
   "metadata": {
    "scrolled": true,
    "tags": []
   },
   "outputs": [
    {
     "name": "stdout",
     "output_type": "stream",
     "text": [
      "98\n"
     ]
    },
    {
     "data": {
      "text/plain": [
       "{'Religion': 167,\n",
       " 'Unbekannte Person': 159,\n",
       " 'Altersgebrechen': 123,\n",
       " 'Gedanken über den Tod': 120,\n",
       " 'Besuch': 120,\n",
       " 'Alter(n)': 111,\n",
       " 'Gedanken zur Gesellschaft': 92,\n",
       " 'Ortserwähnung': 91,\n",
       " 'Schmerz/Krankheit Familie': 91,\n",
       " 'Selbstreflexion': 89,\n",
       " 'Ereignis': 79,\n",
       " 'Gedanken zur Erziehung': 77,\n",
       " 'Rückblick': 69,\n",
       " 'Personenbeschreibung': 67,\n",
       " 'Mädchenschule?': 63,\n",
       " 'Kantonstrennung': 63,\n",
       " 'Geschäfte': 63,\n",
       " 'Trübe Stimmung': 61,\n",
       " 'Selbstkritik': 53,\n",
       " 'Heiterkeit': 53,\n",
       " 'Selbstzeugnis schreiben': 49,\n",
       " 'Über das weibliche Geschlecht': 49,\n",
       " 'Brief': 45,\n",
       " 'Philosophie': 44,\n",
       " 'Trennung': 40,\n",
       " 'Ausbildung': 38,\n",
       " 'Stadt-Land': 37,\n",
       " 'Tätigkeiten': 34,\n",
       " 'Gut St. Apollinaris bei Michelbach': 34,\n",
       " 'Krankheit': 34,\n",
       " 'Wetter': 33,\n",
       " 'Sorgen': 30,\n",
       " 'Bauvorhaben': 29,\n",
       " 'Umzug': 28,\n",
       " 'Trauer': 28,\n",
       " 'Krankheit anderer Personen': 25,\n",
       " 'Gedanke zur Politik': 25,\n",
       " 'Reisen': 25,\n",
       " 'Gedanken zur Ehe': 24,\n",
       " 'Unnütz/Untätig': 24,\n",
       " 'Tod': 22,\n",
       " 'Freundschaft': 22,\n",
       " 'Ratschlag an die Kinder': 20,\n",
       " 'Alter(n) anderer Personen': 19,\n",
       " 'Haushalt': 18,\n",
       " 'Hoffnung': 17,\n",
       " 'Wunsch': 16,\n",
       " 'Erschöpfung': 16,\n",
       " 'Geburt': 16,\n",
       " 'Tod Familie': 15,\n",
       " 'Behandlung/Kur': 15,\n",
       " 'Übelbefinden': 13,\n",
       " 'Allgemeine Stimmung': 12,\n",
       " 'Unruhe': 11,\n",
       " 'Zweifel': 10,\n",
       " 'Heirat': 10,\n",
       " 'Ruhe': 10,\n",
       " 'Erbschaft': 9,\n",
       " 'Empfinden': 9,\n",
       " 'Furcht': 9,\n",
       " 'Verhalten': 7,\n",
       " 'Einsamkeit': 7,\n",
       " 'Tod Kinder': 5,\n",
       " 'Wehmut': 5,\n",
       " 'Unfall/Verletzung': 5,\n",
       " 'Datierung Anna Maria Preiswerk-Iselin': 5,\n",
       " 'Erziehungsinstitut von Johann Heinrich Pestalozzi': 4,\n",
       " 'Wohlbefinden': 4,\n",
       " 'Finanzen': 4,\n",
       " 'Traum': 3,\n",
       " 'Der Basler Mission? Oder Missions-Blatt der Rheinischen Missionsgesellschaft?\\xa0\\uf0e0\\xa0Evangelisches Missionsmagazin (Basel, 1816–1974) oder Magazin für die neueste Geschichte der evangelischen Missions- und Bibegesellscgaften(Basel, 1818–1856).   ': 3,\n",
       " 'Gundeli?': 3,\n",
       " 'Geschriebenes': 3,\n",
       " 'Paginierung gemäss Anna Maria Preiswerk-Iselin': 3,\n",
       " 'Landwirtschaftliche Armenschule Basel': 3,\n",
       " 'Literatur-Blatt ': 3,\n",
       " 'Taufe': 3,\n",
       " 'Zerstreutheit': 3,\n",
       " 'StABS, PA 511a 304-03-10': 3,\n",
       " 'Zufriedenheit': 3,\n",
       " 'Vermutlich die Landwirtschaftliche Armenschule, welche in Basel seit 1823 bestand.': 2,\n",
       " 'Spende': 2,\n",
       " 'Situation': 2,\n",
       " 'test_tei_export': 2,\n",
       " 'Frankreich': 1,\n",
       " 'Zuversicht': 1,\n",
       " 'Fürsorge': 1,\n",
       " 'Savoyerzug': 1,\n",
       " 'Schloss Maienfels, Pratteln BL': 1,\n",
       " 'Armenschule in Hofwil BE': 1,\n",
       " 'Hofgut St. Margarethen in Binningen': 1,\n",
       " 'Mädchenpensionat von Rudolph, Caroline (1785)': 1,\n",
       " 'StABS PA 511a 604-20-13': 1,\n",
       " 'Schwangerschaft': 1,\n",
       " 'Sommersitz „Freudheim“': 1,\n",
       " 'Siechenhaus, erbaut 1769.': 1,\n",
       " 'Aufsatz wurde 1816 abgedruckt im Jahresbericht': 1,\n",
       " 'Helvetische Gesellschaft': 1}"
      ]
     },
     "execution_count": 91,
     "metadata": {},
     "output_type": "execute_result"
    }
   ],
   "source": [
    "mention_entities = chunks[chunks['class_label'].str.contains(\"Tag\")].groupby('entity_label').size()\n",
    "print(len(mention_entities))\n",
    "mention_entities.sort_values(ascending = False).to_dict()"
   ]
  },
  {
   "cell_type": "code",
   "execution_count": null,
   "id": "hollywood-bangkok",
   "metadata": {},
   "outputs": [],
   "source": []
  },
  {
   "cell_type": "code",
   "execution_count": null,
   "id": "recorded-queens",
   "metadata": {},
   "outputs": [],
   "source": []
  },
  {
   "cell_type": "code",
   "execution_count": 93,
   "id": "proper-covering",
   "metadata": {},
   "outputs": [
    {
     "data": {
      "text/plain": [
       "[874019, 910645, 874029, 835869, 835771]"
      ]
     },
     "execution_count": 93,
     "metadata": {},
     "output_type": "execute_result"
    }
   ],
   "source": [
    "[r['id_entity'] for i,r in distinct_chunks.iterrows()][10:15]"
   ]
  },
  {
   "cell_type": "markdown",
   "id": "surprised-upper",
   "metadata": {},
   "source": [
    "# TEI document production"
   ]
  },
  {
   "cell_type": "markdown",
   "id": "falling-brunei",
   "metadata": {},
   "source": [
    "## Header"
   ]
  },
  {
   "cell_type": "code",
   "execution_count": 709,
   "id": "visible-broadcast",
   "metadata": {},
   "outputs": [
    {
     "name": "stdout",
     "output_type": "stream",
     "text": [
      "835550 Heft 1 (1795)\n"
     ]
    }
   ],
   "source": [
    "for h in hefte_li[:1]:\n",
    "    print(h['id_manuscript'], h['title_manuscript'])"
   ]
  },
  {
   "cell_type": "code",
   "execution_count": null,
   "id": "maritime-eclipse",
   "metadata": {},
   "outputs": [],
   "source": []
  },
  {
   "cell_type": "code",
   "execution_count": 710,
   "id": "sound-marriage",
   "metadata": {},
   "outputs": [
    {
     "data": {
      "text/plain": [
       "(59,\n",
       "       id_entity                entity_label  fk_class class_label\n",
       " 4310     922744   Friedrich Hoffmann-Merian        21      Person\n",
       " 4313     868665  Emanuel Hoffmann-Preiswerk        21      Person\n",
       " 4317     868701  Juliane Paravicini-Vischer        21      Person)"
      ]
     },
     "execution_count": 710,
     "metadata": {},
     "output_type": "execute_result"
    }
   ],
   "source": [
    "### Liste des entités (et non des mentions)\n",
    "distinct_chunks = chunks[chunks['id_manuscript'] == tei_xml_id].drop_duplicates(['id_entity','entity_label','fk_class','class_label'])[['id_entity','entity_label','fk_class','class_label']]\n",
    "len(distinct_chunks), distinct_chunks[-3:]"
   ]
  },
  {
   "cell_type": "markdown",
   "id": "controversial-spirit",
   "metadata": {},
   "source": [
    "### Fonction qui prépare la partie listes du header\n",
    "\n"
   ]
  },
  {
   "cell_type": "code",
   "execution_count": 722,
   "id": "identified-bermuda",
   "metadata": {},
   "outputs": [
    {
     "data": {
      "text/plain": [
       "{'id_entity': 884071,\n",
       " 'entity_label': 'Wetter',\n",
       " 'fk_class': 635,\n",
       " 'class_label': 'Tag'}"
      ]
     },
     "execution_count": 722,
     "metadata": {},
     "output_type": "execute_result"
    }
   ],
   "source": [
    "distinct_chunks_li = distinct_chunks.to_dict(orient='records')\n",
    "distinct_chunks_li[0]"
   ]
  },
  {
   "cell_type": "code",
   "execution_count": 712,
   "id": "unable-parcel",
   "metadata": {},
   "outputs": [],
   "source": [
    "def tei_header_lists(chunks, tei_xml_id):\n",
    "    \n",
    "    header_result = []\n",
    "    persons = ''\n",
    "    objects = ''\n",
    "    places = ''\n",
    "\n",
    "    distinct_chunks = chunks[chunks['id_manuscript'] == tei_xml_id]\\\n",
    "        .drop_duplicates(['id_entity','entity_label','fk_class','class_label'])\\\n",
    "        [['id_entity','entity_label','fk_class','class_label']]\n",
    "        \n",
    "    \n",
    "    \n",
    "    for i,r in distinct_chunks.iterrows():\n",
    "        if r['fk_class'] == 21:\n",
    "            hr = '<person xml:id=\"i' + str(r['id_entity']) + '\"><persName>' + \\\n",
    "            r['entity_label'] + '</persName></person>'\n",
    "            persons += hr\n",
    "            \n",
    "        elif r['fk_class'] == 363 :\n",
    "            hr = '<place xml:id=\"i' + str(r['id_entity']) + '\"><placeName>' + \\\n",
    "            r['entity_label'] + '</placeName></place>'\n",
    "            places += hr\n",
    "\n",
    "        else:\n",
    "            if r['fk_class'] == 635:\n",
    "                ty = 'tag'\n",
    "            elif r['fk_class'] == 219:\n",
    "                ty = 'book_etc'\n",
    "            else :\n",
    "                pass    \n",
    "            hr = '<object xml:id=\"i' + str(r['id_entity']) + '\" type=\"' + ty + '\"><objectIdentifier><objectName>' + \\\n",
    "            r['entity_label'] + '</objectName></objectIdentifier></object>'\n",
    "            objects += hr\n",
    "            \n",
    "\n",
    "    lper = ''\n",
    "    if len(persons) > 0:\n",
    "        lper = '<listPerson>' + persons + '</listPerson>'\n",
    "\n",
    "    lob = ''\n",
    "    if len(objects) > 0:\n",
    "        lob = '<listObject>' + objects + '</listObject>'\n",
    "        \n",
    "    lpla = ''    \n",
    "    if len(places) > 0:\n",
    "        lpla = '<listPlace>' + places + '</listPlace>'\n",
    "        \n",
    "    header_result = lper + lob + lpla\n",
    "    \n",
    "    return header_result"
   ]
  },
  {
   "cell_type": "code",
   "execution_count": null,
   "id": "spread-safety",
   "metadata": {},
   "outputs": [],
   "source": []
  },
  {
   "cell_type": "markdown",
   "id": "excellent-orientation",
   "metadata": {},
   "source": [
    "## Principe\n",
    "\n",
    "* Pour chaque caractère on vérifie s'il est dans une balise sémantique, puis on applique un traitement spécifique\n",
    "* Les balises sont fermées correctement mais si l'emboitement n'est pas correct selon l'arboréscence XML le résultat sera XML valide mais non correct par rapport au sens du codage original"
   ]
  },
  {
   "cell_type": "code",
   "execution_count": 713,
   "id": "seven-ottawa",
   "metadata": {},
   "outputs": [],
   "source": [
    "### Fonction qui retourne l'intersection entre deux listes, \n",
    "#  i.e. les éléments communs\n",
    "def intersection(lst1, lst2):\n",
    "    lst3 = [value for value in lst1 if value in lst2]\n",
    "    return lst3\n",
    "\n",
    "### Fonction qui retourne la différence entre deux listes, \n",
    "#  i.e. les éléments qui sont dans l'une mais pas dans l'autre, et réciproquement\n",
    "def difference(lst1, lst2):\n",
    "    lst3 = list(set(lst1) ^ set(lst2))\n",
    "    return lst3"
   ]
  },
  {
   "cell_type": "code",
   "execution_count": 714,
   "id": "diverse-advancement",
   "metadata": {},
   "outputs": [
    {
     "data": {
      "text/plain": [
       "([1, 3, 7, 5, 23, 8], [9, 6])"
      ]
     },
     "execution_count": 714,
     "metadata": {},
     "output_type": "execute_result"
    }
   ],
   "source": [
    "difference([5,1,7,9,6], [3,6,9,8,23]),intersection([5,1,7,9,6], [3,6,9,8,23])"
   ]
  },
  {
   "cell_type": "markdown",
   "id": "infrared-operations",
   "metadata": {},
   "source": [
    "### Fonction qui prépare les divs"
   ]
  },
  {
   "cell_type": "code",
   "execution_count": null,
   "id": "large-description",
   "metadata": {},
   "outputs": [],
   "source": []
  },
  {
   "cell_type": "code",
   "execution_count": 715,
   "id": "intermediate-lobby",
   "metadata": {},
   "outputs": [],
   "source": [
    "p = re.compile('(\\[)(.*)(\\])')"
   ]
  },
  {
   "cell_type": "code",
   "execution_count": 716,
   "id": "fancy-assault",
   "metadata": {},
   "outputs": [],
   "source": [
    "p1 = re.compile('\\[.*\\]')"
   ]
  },
  {
   "cell_type": "code",
   "execution_count": 541,
   "id": "worth-bryan",
   "metadata": {},
   "outputs": [],
   "source": [
    "p2 = re.compile('\\[\\d+\\]')"
   ]
  },
  {
   "cell_type": "code",
   "execution_count": 542,
   "id": "hidden-individual",
   "metadata": {},
   "outputs": [
    {
     "data": {
      "text/plain": [
       "['[23. November 1795]', '[3]']"
      ]
     },
     "execution_count": 542,
     "metadata": {},
     "output_type": "execute_result"
    }
   ],
   "source": [
    "r = p1.findall(d)\n",
    "r"
   ]
  },
  {
   "cell_type": "code",
   "execution_count": 655,
   "id": "hydraulic-complaint",
   "metadata": {},
   "outputs": [],
   "source": [
    "d = \"\"\"\n",
    "<p>[23. November 1795]</p>\n",
    "<p>[3]</p>\n",
    "alpha beta\n",
    "\"\"\""
   ]
  },
  {
   "cell_type": "code",
   "execution_count": 657,
   "id": "interpreted-anthropology",
   "metadata": {},
   "outputs": [
    {
     "name": "stdout",
     "output_type": "stream",
     "text": [
      "\n",
      "\n",
      "<pb n=\"3\"/>\n",
      "alpha beta\n",
      "\n"
     ]
    }
   ],
   "source": [
    "p2 = re.compile('(<p>\\[)(\\d+)(\\]</p>)')\n",
    "\n",
    "r = p2.findall(d)\n",
    "\n",
    "for i in r:\n",
    "    rep = '<pb n=\"' + r[0][1]+  '\"/>'\n",
    "    d = d.replace(''.join(i), rep)\n",
    "    \n",
    "print(d)    "
   ]
  },
  {
   "cell_type": "code",
   "execution_count": 658,
   "id": "expressed-addiction",
   "metadata": {},
   "outputs": [
    {
     "name": "stdout",
     "output_type": "stream",
     "text": [
      "\n",
      "\n",
      "<pb n=\"3\"/>\n",
      "alpha beta\n",
      "\n"
     ]
    }
   ],
   "source": [
    "p1 = re.compile('<p>\\[.{5,25}\\]</p>')\n",
    "\n",
    "r = p1.findall(d)\n",
    "\n",
    "for i in r:\n",
    "    print(i)\n",
    "    d = d.replace(i, '')\n",
    "    \n",
    "print(d)    "
   ]
  },
  {
   "cell_type": "code",
   "execution_count": null,
   "id": "critical-cancer",
   "metadata": {},
   "outputs": [],
   "source": []
  },
  {
   "cell_type": "code",
   "execution_count": null,
   "id": "brown-bench",
   "metadata": {},
   "outputs": [],
   "source": []
  },
  {
   "cell_type": "code",
   "execution_count": null,
   "id": "under-bacteria",
   "metadata": {},
   "outputs": [],
   "source": []
  },
  {
   "cell_type": "code",
   "execution_count": 730,
   "id": "steady-official",
   "metadata": {
    "scrolled": true,
    "tags": []
   },
   "outputs": [],
   "source": [
    "def divs_text(tei_xml_id, texts, chunks):\n",
    "    \n",
    "    divs = ''\n",
    "    \n",
    "    ### Sélection des sections de ce manuscrit\n",
    "    div_texts_li = texts[texts['id_manuscript'] == tei_xml_id].to_dict(orient='records')\n",
    "    print(len(div_texts_li))\n",
    "\n",
    "    \n",
    "    ### Boucle de traitement de chaque section, un texte = 't'\n",
    "    for t in div_texts_li:\n",
    "        \n",
    "        output_text = ''\n",
    "        \n",
    "        sect_title = '<head resp=\"#editor\">'+ t['section_type'].strip(' \\'') +'<date> ' + t['title_section'] + ' </date></head>'\n",
    "        \n",
    "\n",
    "        \n",
    "        section_id = t['id_section']\n",
    "        text_id = t['id_text']\n",
    "        \n",
    "        data = json.loads(t['quill_doc'])\n",
    "        insert_chars = data['ops']\n",
    "        \n",
    "        chun_li = chunks[chunks['id_text'] == t['id_text']].to_dict(orient='records')\n",
    "        new_chunks = [[i['id_entity'], i['entity_label'], i['fk_class'], i['class_label'], \\\n",
    "                       [i[0] for i in[  (list(e['attributes'].values())) \\\n",
    "                                    for e in json.loads(i['quill_doc'])['ops']]]] \\\n",
    "                                   for i in chun_li]\n",
    "\n",
    "\n",
    "        \n",
    "        output = []\n",
    "        tags_l = []\n",
    "\n",
    "        len_string = 0\n",
    "\n",
    "        output.append('<p>')\n",
    "\n",
    "        for l in insert_chars:   #[206:400]:\n",
    "\n",
    "            pre_char = ''\n",
    "            post_char =''\n",
    "            local_tags_l = []\n",
    "\n",
    "            try:\n",
    "                a = l['attributes']['charid']\n",
    "                # print('–––\\n', a)\n",
    "\n",
    "                if a in ['\\xa0']:\n",
    "                    pass\n",
    "                else:\n",
    "                    for c in new_chunks:\n",
    "\n",
    "                        if c[2] == 219:\n",
    "                            ty = 'book_etc'\n",
    "                        elif c[2] == 21:\n",
    "                            ty = 'person'\n",
    "                        elif c[2] == 363:\n",
    "                            ty = 'place'    \n",
    "                        else :\n",
    "                            ty = 'object'\n",
    "                            \n",
    "                            \n",
    "                        ### si un charactère est dans un chunk et pas encore dans la liste des chuncks\n",
    "                        # ajouter à la liste et ajouter ouverture élém. 'rs'\n",
    "                        if a in c[4] and c[0] not in tags_l: \n",
    "                            #  print(a + ' : ' + str(c[0])) \n",
    "                            pre_char = pre_char + '<rs ref=\"#i' + str(c[0]) + '\" type=\"'+ ty +'\">'\n",
    "                            tags_l.append(c[0])\n",
    "                            local_tags_l.append(c[0])\n",
    "                            #  print('new:', tags_l)\n",
    "                        elif a in c[4] and c[0] in tags_l and c[0] not in local_tags_l:\n",
    "                            local_tags_l.append(c[0])\n",
    "                            pass\n",
    "                        else:\n",
    "                            pass\n",
    "\n",
    "                    ## list difference   \n",
    "                    diff_l = list(set(tags_l) ^ set(local_tags_l))\n",
    "                    #  print(diff_l)\n",
    "                    post_char = '</rs>' * len(diff_l)\n",
    "\n",
    "                    ## list intersection\n",
    "                    tags_l = intersection(tags_l, local_tags_l)\n",
    "                    #  print(tags_l)\n",
    "\n",
    "\n",
    "                    if l['insert'] == '<' :\n",
    "                        char = '&lt;'\n",
    "                    elif l['insert'] == '>' : \n",
    "                        char = '&gt;'\n",
    "                    elif l['insert'] == '&' : \n",
    "                        char = '&amp;'    \n",
    "                    else:\n",
    "                        char = l['insert']\n",
    "\n",
    "                    output.append(pre_char + post_char + char)\n",
    "                    len_string += 1\n",
    "\n",
    "\n",
    "\n",
    "            except:\n",
    "                # print('b', l['attributes']['blockid'])\n",
    "                if len_string > 4 :\n",
    "                    output.append('<lb/>')  #  l['insert']\n",
    "                    len_string = 0\n",
    "                else:\n",
    "                    if len(tags_l) > 0:\n",
    "                        output.append('</rs>' * len(tags_l))\n",
    "                        tags_l = []\n",
    "                    output.append('</p><p>')\n",
    "                    len_string = 0\n",
    "\n",
    "\n",
    "        if len(tags_l) > 0:\n",
    "            output.append('</rs>' * len(tags_l))\n",
    "            tags_l = []\n",
    "        output.append('</p>')    \n",
    "        \n",
    "        output_text = '<div xml:id=\"d' + str(text_id) + '\" corresp=\"d' + str(section_id) + '\" >' \\\n",
    "                    + sect_title + (''.join(output).replace('<lb/></p>', '</p>')) + '</div>'\n",
    "        \n",
    "       \n",
    "\n",
    "        divs += output_text.replace('<p></p>','')\\\n",
    "                    .replace('{', '<supplied>').replace('}', '</supplied>')\\\n",
    "                    .replace('&lt;', '<del>').replace('&gt;', '</del>')\n",
    "        \n",
    "        \n",
    "        p2 = re.compile('(<p>\\[)(\\d+)(\\]</p>)')\n",
    "        r = p2.findall(divs)\n",
    "        for i in r:\n",
    "            rep = '<pb n=\"' + i[1]+  '\"/>'\n",
    "            divs = divs.replace(''.join(i), rep)    \n",
    "\n",
    "            \n",
    "        p1 = re.compile('<p>\\[.{5,35}\\]</p>')\n",
    "        r = p1.findall(divs)\n",
    "        for i in r:\n",
    "            divs = divs.replace(i, '')            \n",
    "            \n",
    "        \n",
    "        try:\n",
    "            x_doc = etree.fromstring(output_text)\n",
    "            result_list.append('[' + str(tei_xml_id) + '] ' + str(text_id) + ' : ok !')\n",
    "            doc_list.append(tei_xml_id)\n",
    "        except Exception as e:\n",
    "            result_list.append(str(tei_xml_id) + '–' + str(section_id) + t['title_section'] + \" : error !\")\n",
    "            result_list.append(e)\n",
    "                                              \n",
    "    return divs\n",
    "                                              "
   ]
  },
  {
   "cell_type": "code",
   "execution_count": 732,
   "id": "close-integration",
   "metadata": {
    "scrolled": true,
    "tags": []
   },
   "outputs": [
    {
     "name": "stdout",
     "output_type": "stream",
     "text": [
      "4\n",
      "7\n",
      "1\n",
      "9\n",
      "19\n",
      "1\n",
      "6\n",
      "4\n",
      "5\n",
      "19\n",
      "65\n",
      "18\n",
      "27\n",
      "23\n",
      "14\n",
      "28\n",
      "30\n",
      "30\n",
      "3\n",
      "31\n",
      "28\n",
      "25\n",
      "45\n",
      "30\n",
      "26\n",
      "33\n",
      "36\n",
      "49\n",
      "49\n",
      "44\n",
      "35\n",
      "37\n"
     ]
    }
   ],
   "source": [
    "doc_list = []\n",
    "result_list = []\n",
    "for h in hefte_li:  #[4:5]:   [:1]\n",
    "    \n",
    "    tei_document = ''\n",
    "    tei_xml_id = h['id_manuscript']\n",
    "\n",
    "    \n",
    "    ##  <?xml version=\"1.0\" encoding=\"UTF-8\"?>\n",
    "    \n",
    "    tei_document = \"\"\"<?xml version=\"1.0\"?>\n",
    "    <?xml-model href=\"http://www.tei-c.org/release/xml/tei/custom/schema/relaxng/tei_all.rng\" type=\"application/xml\" schematypens=\"http://relaxng.org/ns/structure/1.0\"?>    \n",
    "    <TEI xmlns=\"http://www.tei-c.org/ns/1.0\" xml:id=\"d\"\"\" + str(tei_xml_id) + \"\"\"\">\n",
    "       <teiHeader>\n",
    "          <fileDesc>\n",
    "             <titleStmt>\n",
    "                <title>\"\"\" + h['title_manuscript'] +  \"\"\"\n",
    "                </title>\n",
    "                <author>Anna Maria Preiswerk-Iselin</author>\n",
    "             </titleStmt>\n",
    "             <publicationStmt>\n",
    "                <publisher xml:id=\"editor\">Tagebücher Anna Maria Preiswerk-Iselin Projekt</publisher>\n",
    "                <pubPlace>Basel</pubPlace>\n",
    "                <date when=\"2022-03\">March 2021</date>\n",
    "                <availability>\n",
    "                   <licence notBefore=\"2022-03-01\" target=\"http://creativecommons.org/licenses/by-sa/4.0/\">\n",
    "                      <p>[...]</p>\n",
    "                      <p>This work is licensed under a Creative Commons Attribution-ShareAlike 4.0 International License.</p>\n",
    "                      <p> You are free to: <list>\n",
    "                            <item> Share — copy and redistribute the material in any medium or format</item>\n",
    "                            <item> Adapt — remix, transform, and build upon the material</item>\n",
    "                         </list>\n",
    "                      </p>\n",
    "                      <p> Under the following terms: <list>\n",
    "                            <item> Attribution — You must give appropriate credit, provide a link to the license, and indicate if changes were made. You\n",
    "                               may do so in any reasonable manner, but not in any way that suggests the licensor endorses you or your use.</item>\n",
    "                            <item> ShareAlike — If you remix, transform, or build upon the material, you must distribute your contributions under the same\n",
    "                               license as the original.</item>\n",
    "                            <item> No additional restrictions — You may not apply legal terms or technological measures that legally restrict others from\n",
    "                               doing anything the license permits.</item>\n",
    "                         </list>\n",
    "                      </p>\n",
    "                      <p>The licence was added on March first, 2022.</p>\n",
    "                   </licence>\n",
    "                </availability>\n",
    "             </publicationStmt>\n",
    "             <sourceDesc>\n",
    "                <msDesc>\n",
    "                   <msIdentifier>\n",
    "                      <settlement>Basel</settlement>\n",
    "                      <repository>Staatsarchiv</repository>\n",
    "                      <idno>StABS PA 511 304-03-04</idno>\n",
    "                      <msName>Heft 12 (1815-1816) - Anna Maria Preiswerk-Iselin </msName>\n",
    "                   </msIdentifier>\n",
    "                </msDesc>\n",
    "    \"\"\"  + tei_header_lists(chunks, tei_xml_id) + \"\"\"\n",
    "    </sourceDesc>\n",
    "      </fileDesc>\n",
    "      <profileDesc>\n",
    "         <textClass>\n",
    "            <!-- vérifier !!! -->\n",
    "            <catRef scheme=\"#genre\" target=\"#journal\"/>\n",
    "         </textClass>\n",
    "         <langUsage>\n",
    "            <language ident=\"de\">Deutsch</language>\n",
    "         </langUsage>\n",
    "      </profileDesc>\n",
    "   </teiHeader>\n",
    "       <text><body>\"\"\" + divs_text(tei_xml_id, texts, chunks) + \"\"\"\n",
    "       </body></text>\n",
    "   </TEI>\n",
    "    \"\"\"\n",
    "    \n",
    "    try:\n",
    "        x_doc = etree.fromstring(tei_document)\n",
    "        result_list.append(str(tei_xml_id) + ' : -> file ok !')\n",
    "        doc_list.append(tei_xml_id)\n",
    "    except Exception as e:\n",
    "        result_list.append(str(tei_xml_id) + \" : -> file error !\")\n",
    "        result_list.append(e)\n",
    "        \n",
    "        \n",
    "    file_name = 'tei_files/text_i' + str(tei_xml_id) + '.xml'\n",
    "    \n",
    "    with open(file_name, 'w') as f:\n",
    "        f.write(tei_document)\n",
    "\n",
    "        \n",
    "        \n",
    "logs = 'texte/logs.txt'\n",
    "logs_content = '\\n'.join(result_list)\n",
    "with open(logs, 'w') as f:\n",
    "    f.write(logs_content)"
   ]
  },
  {
   "cell_type": "code",
   "execution_count": 196,
   "id": "fantastic-bermuda",
   "metadata": {},
   "outputs": [
    {
     "data": {
      "text/plain": [
       "32"
      ]
     },
     "execution_count": 196,
     "metadata": {},
     "output_type": "execute_result"
    }
   ],
   "source": [
    "len(doc_list)"
   ]
  },
  {
   "cell_type": "code",
   "execution_count": null,
   "id": "placed-punch",
   "metadata": {},
   "outputs": [],
   "source": []
  },
  {
   "cell_type": "markdown",
   "id": "strange-commons",
   "metadata": {},
   "source": [
    "## Question importante\n",
    "\n",
    "Implémenter cette fonction en PL/pgSQL ou Python dans PostgreSQL pour produire le texte de sortie directement sur le serveur, dans une fonction PL/pgSQL par exemple, renvoyant directement le texte XML/TEI"
   ]
  },
  {
   "cell_type": "code",
   "execution_count": null,
   "id": "consistent-emperor",
   "metadata": {},
   "outputs": [],
   "source": []
  }
 ],
 "metadata": {
  "kernelspec": {
   "display_name": "py37text",
   "language": "python",
   "name": "py37text"
  },
  "language_info": {
   "codemirror_mode": {
    "name": "ipython",
    "version": 3
   },
   "file_extension": ".py",
   "mimetype": "text/x-python",
   "name": "python",
   "nbconvert_exporter": "python",
   "pygments_lexer": "ipython3",
   "version": "3.7.12"
  }
 },
 "nbformat": 4,
 "nbformat_minor": 5
}
